{
 "cells": [
  {
   "cell_type": "markdown",
   "metadata": {},
   "source": [
    "# GTE-mulitilingual-base: sentence transformer embedding"
   ]
  },
  {
   "cell_type": "code",
   "execution_count": null,
   "metadata": {
    "execution": {
     "iopub.execute_input": "2025-06-17T22:16:19.118795Z",
     "iopub.status.busy": "2025-06-17T22:16:19.118530Z",
     "iopub.status.idle": "2025-06-17T22:16:20.163927Z",
     "shell.execute_reply": "2025-06-17T22:16:20.162988Z",
     "shell.execute_reply.started": "2025-06-17T22:16:19.118774Z"
    },
    "trusted": true
   },
   "outputs": [],
   "source": [
    "import os\n",
    "import pandas as pd\n",
    "import re\n",
    "from sklearn.model_selection import train_test_split\n",
    "from sklearn.feature_extraction.text import TfidfVectorizer\n",
    "from sklearn.metrics.pairwise import cosine_similarity\n",
    "import numpy as np"
   ]
  },
  {
   "cell_type": "markdown",
   "metadata": {},
   "source": [
    "Load Dataset"
   ]
  },
  {
   "cell_type": "code",
   "execution_count": null,
   "metadata": {
    "execution": {
     "iopub.execute_input": "2025-06-17T22:16:20.165888Z",
     "iopub.status.busy": "2025-06-17T22:16:20.165485Z",
     "iopub.status.idle": "2025-06-17T22:16:21.922177Z",
     "shell.execute_reply": "2025-06-17T22:16:21.921555Z",
     "shell.execute_reply.started": "2025-06-17T22:16:20.165870Z"
    },
    "trusted": true
   },
   "outputs": [
    {
     "data": {
      "text/html": [
       "<div>\n",
       "<style scoped>\n",
       "    .dataframe tbody tr th:only-of-type {\n",
       "        vertical-align: middle;\n",
       "    }\n",
       "\n",
       "    .dataframe tbody tr th {\n",
       "        vertical-align: top;\n",
       "    }\n",
       "\n",
       "    .dataframe thead th {\n",
       "        text-align: right;\n",
       "    }\n",
       "</style>\n",
       "<table border=\"1\" class=\"dataframe\">\n",
       "  <thead>\n",
       "    <tr style=\"text-align: right;\">\n",
       "      <th></th>\n",
       "      <th>file_name</th>\n",
       "      <th>summary</th>\n",
       "      <th>full_article</th>\n",
       "    </tr>\n",
       "  </thead>\n",
       "  <tbody>\n",
       "    <tr>\n",
       "      <th>0</th>\n",
       "      <td>article_1.txt</td>\n",
       "      <td>ស្ត្រី ជាបុគ្គលដ៏សំខាន់ក្នុងរួមចំណែកដំណើរការដឹ...</td>\n",
       "      <td>កាលពីអតីតកាល កិច្ចការងារ និងមុខតំណែងក្នុងអង្គភ...</td>\n",
       "    </tr>\n",
       "    <tr>\n",
       "      <th>1</th>\n",
       "      <td>article_100.txt</td>\n",
       "      <td>អ្នកនាំពាក្យក្រសួងការបរទេសអាម៉េរិក លោក Matthew...</td>\n",
       "      <td>ដំណើរទស្សនកិច្ចទៅកាន់ទីក្រុងសេអ៊ូល ជាផ្នែកមួយន...</td>\n",
       "    </tr>\n",
       "    <tr>\n",
       "      <th>2</th>\n",
       "      <td>article_1000.txt</td>\n",
       "      <td>ព្រឹទ្ធសភាអាមេរិក នៅថ្ងៃទី៩ ខែកុម្ភៈ បានយល់ព្រ...</td>\n",
       "      <td>សវនាការដកតំណែងលើកទីពីរប្រឆាំងអតីតប្រធានាធិបតី ...</td>\n",
       "    </tr>\n",
       "    <tr>\n",
       "      <th>3</th>\n",
       "      <td>article_10000.txt</td>\n",
       "      <td>សកម្មភាព​លក់​លំនៅ​ឋាន ដែលមាន​ផ្ទះល្វែង វីឡាភ្ល...</td>\n",
       "      <td>របាយការណ៍ដែល​យោង​តាម​និយ័តករ​អាជីវករអចលនវត្ថុ ...</td>\n",
       "    </tr>\n",
       "    <tr>\n",
       "      <th>4</th>\n",
       "      <td>article_10001.txt</td>\n",
       "      <td>ភ្នំពេញ៖ លោក វ៉ាង យី រដ្ឋមន្រ្តីការបរទេសចិន បា...</td>\n",
       "      <td>ក្នុងជំនួបនេះលោក សុខ ចិន្តាសោភា បានរំលេចពីទំនា...</td>\n",
       "    </tr>\n",
       "    <tr>\n",
       "      <th>...</th>\n",
       "      <td>...</td>\n",
       "      <td>...</td>\n",
       "      <td>...</td>\n",
       "    </tr>\n",
       "    <tr>\n",
       "      <th>10020</th>\n",
       "      <td>article_9995.txt</td>\n",
       "      <td>របាយ​ការណ៍ថ្មីមួយ​ដែល​សិក្សា​ដោយ​អង្គការ​លីកាដ...</td>\n",
       "      <td>យោងតាមរបាយការណ៍នេះ ​អ្នក​ខ្ចី​ប្រាក់​ជាង​២/៣ ​...</td>\n",
       "    </tr>\n",
       "    <tr>\n",
       "      <th>10021</th>\n",
       "      <td>article_9996.txt</td>\n",
       "      <td>៧ខែមកនេះ​ កម្ពុជាទទួលបានភ្ញៀវទេសចរបរទេសសរុប ៣ ...</td>\n",
       "      <td>ក្រសួងទេសចរណ៍បានបញ្ជាក់ថា បន្ទាប់ពីថៃទេសចរដែលម...</td>\n",
       "    </tr>\n",
       "    <tr>\n",
       "      <th>10022</th>\n",
       "      <td>article_9997.txt</td>\n",
       "      <td>រយៈពេល៧ខែមកនេះ ការនាំចេញរបស់កម្ពុជាទៅកាន់ទីផ្ស...</td>\n",
       "      <td>Regional Comprehensive Economic Partnership (R...</td>\n",
       "    </tr>\n",
       "    <tr>\n",
       "      <th>10023</th>\n",
       "      <td>article_9998.txt</td>\n",
       "      <td>ធនាគារជាតិនៃកម្ពុជា (NBC) ប្រកាសដាក់ដេញថ្លៃប្រ...</td>\n",
       "      <td>បើតាមសេចក្តីជូនដំណឹងរបស់ធនាគារជាតិ ការដេញថ្លៃន...</td>\n",
       "    </tr>\n",
       "    <tr>\n",
       "      <th>10024</th>\n",
       "      <td>article_9999.txt</td>\n",
       "      <td>៧ខែមកនេះ ​ការធ្វើពាណិជ្ជកម្មរវាងកម្ពុជាជាមួយទី...</td>\n",
       "      <td>យោងតាមទិន្នន័យពីអគ្គនាយកដ្ឋានគយ និងរដ្ឋាករកម្ព...</td>\n",
       "    </tr>\n",
       "  </tbody>\n",
       "</table>\n",
       "<p>10025 rows × 3 columns</p>\n",
       "</div>"
      ],
      "text/plain": [
       "               file_name                                            summary  \\\n",
       "0          article_1.txt  ស្ត្រី ជាបុគ្គលដ៏សំខាន់ក្នុងរួមចំណែកដំណើរការដឹ...   \n",
       "1        article_100.txt  អ្នកនាំពាក្យក្រសួងការបរទេសអាម៉េរិក លោក Matthew...   \n",
       "2       article_1000.txt  ព្រឹទ្ធសភាអាមេរិក នៅថ្ងៃទី៩ ខែកុម្ភៈ បានយល់ព្រ...   \n",
       "3      article_10000.txt  សកម្មភាព​លក់​លំនៅ​ឋាន ដែលមាន​ផ្ទះល្វែង វីឡាភ្ល...   \n",
       "4      article_10001.txt  ភ្នំពេញ៖ លោក វ៉ាង យី រដ្ឋមន្រ្តីការបរទេសចិន បា...   \n",
       "...                  ...                                                ...   \n",
       "10020   article_9995.txt  របាយ​ការណ៍ថ្មីមួយ​ដែល​សិក្សា​ដោយ​អង្គការ​លីកាដ...   \n",
       "10021   article_9996.txt  ៧ខែមកនេះ​ កម្ពុជាទទួលបានភ្ញៀវទេសចរបរទេសសរុប ៣ ...   \n",
       "10022   article_9997.txt  រយៈពេល៧ខែមកនេះ ការនាំចេញរបស់កម្ពុជាទៅកាន់ទីផ្ស...   \n",
       "10023   article_9998.txt  ធនាគារជាតិនៃកម្ពុជា (NBC) ប្រកាសដាក់ដេញថ្លៃប្រ...   \n",
       "10024   article_9999.txt  ៧ខែមកនេះ ​ការធ្វើពាណិជ្ជកម្មរវាងកម្ពុជាជាមួយទី...   \n",
       "\n",
       "                                            full_article  \n",
       "0      កាលពីអតីតកាល កិច្ចការងារ និងមុខតំណែងក្នុងអង្គភ...  \n",
       "1      ដំណើរទស្សនកិច្ចទៅកាន់ទីក្រុងសេអ៊ូល ជាផ្នែកមួយន...  \n",
       "2      សវនាការដកតំណែងលើកទីពីរប្រឆាំងអតីតប្រធានាធិបតី ...  \n",
       "3      របាយការណ៍ដែល​យោង​តាម​និយ័តករ​អាជីវករអចលនវត្ថុ ...  \n",
       "4      ក្នុងជំនួបនេះលោក សុខ ចិន្តាសោភា បានរំលេចពីទំនា...  \n",
       "...                                                  ...  \n",
       "10020  យោងតាមរបាយការណ៍នេះ ​អ្នក​ខ្ចី​ប្រាក់​ជាង​២/៣ ​...  \n",
       "10021  ក្រសួងទេសចរណ៍បានបញ្ជាក់ថា បន្ទាប់ពីថៃទេសចរដែលម...  \n",
       "10022  Regional Comprehensive Economic Partnership (R...  \n",
       "10023  បើតាមសេចក្តីជូនដំណឹងរបស់ធនាគារជាតិ ការដេញថ្លៃន...  \n",
       "10024  យោងតាមទិន្នន័យពីអគ្គនាយកដ្ឋានគយ និងរដ្ឋាករកម្ព...  \n",
       "\n",
       "[10025 rows x 3 columns]"
      ]
     },
     "execution_count": 4,
     "metadata": {},
     "output_type": "execute_result"
    }
   ],
   "source": [
    "# df = pd.read_csv('/kaggle/input/original-data/summaries_and_articles.csv')\n",
    "df = pd.read_csv('summaries_and_articles.csv')"
   ]
  },
  {
   "cell_type": "markdown",
   "metadata": {},
   "source": [
    "split into test set "
   ]
  },
  {
   "cell_type": "code",
   "execution_count": 5,
   "metadata": {
    "execution": {
     "iopub.execute_input": "2025-06-17T22:16:21.923042Z",
     "iopub.status.busy": "2025-06-17T22:16:21.922851Z",
     "iopub.status.idle": "2025-06-17T22:16:21.929544Z",
     "shell.execute_reply": "2025-06-17T22:16:21.928766Z",
     "shell.execute_reply.started": "2025-06-17T22:16:21.923026Z"
    },
    "trusted": true
   },
   "outputs": [],
   "source": [
    "train, test = train_test_split(df, test_size=0.2, random_state=42)"
   ]
  },
  {
   "cell_type": "markdown",
   "metadata": {},
   "source": [
    "# TEST"
   ]
  },
  {
   "cell_type": "code",
   "execution_count": 6,
   "metadata": {
    "execution": {
     "iopub.execute_input": "2025-06-17T22:16:21.931490Z",
     "iopub.status.busy": "2025-06-17T22:16:21.931296Z",
     "iopub.status.idle": "2025-06-17T22:16:31.686340Z",
     "shell.execute_reply": "2025-06-17T22:16:31.685481Z",
     "shell.execute_reply.started": "2025-06-17T22:16:21.931475Z"
    },
    "trusted": true
   },
   "outputs": [],
   "source": [
    "import torch\n",
    "import torch.nn.functional as F\n",
    "from transformers import AutoModel, AutoTokenizer\n",
    "from sklearn.metrics.pairwise import cosine_similarity"
   ]
  },
  {
   "cell_type": "code",
   "execution_count": 9,
   "metadata": {
    "execution": {
     "iopub.execute_input": "2025-06-17T22:17:33.555323Z",
     "iopub.status.busy": "2025-06-17T22:17:33.554822Z",
     "iopub.status.idle": "2025-06-17T22:18:02.271662Z",
     "shell.execute_reply": "2025-06-17T22:18:02.271087Z",
     "shell.execute_reply.started": "2025-06-17T22:17:33.555300Z"
    },
    "trusted": true
   },
   "outputs": [
    {
     "data": {
      "application/vnd.jupyter.widget-view+json": {
       "model_id": "8a05edcb2cb74e69ab1463a7bc08dca0",
       "version_major": 2,
       "version_minor": 0
      },
      "text/plain": [
       "modules.json:   0%|          | 0.00/349 [00:00<?, ?B/s]"
      ]
     },
     "metadata": {},
     "output_type": "display_data"
    },
    {
     "data": {
      "application/vnd.jupyter.widget-view+json": {
       "model_id": "bc1d1a95ce4d44c8990d083da1e9a44d",
       "version_major": 2,
       "version_minor": 0
      },
      "text/plain": [
       "README.md:   0%|          | 0.00/123k [00:00<?, ?B/s]"
      ]
     },
     "metadata": {},
     "output_type": "display_data"
    },
    {
     "data": {
      "application/vnd.jupyter.widget-view+json": {
       "model_id": "54a2150f3f0b4da19d6e52405107222b",
       "version_major": 2,
       "version_minor": 0
      },
      "text/plain": [
       "sentence_bert_config.json:   0%|          | 0.00/55.0 [00:00<?, ?B/s]"
      ]
     },
     "metadata": {},
     "output_type": "display_data"
    },
    {
     "data": {
      "application/vnd.jupyter.widget-view+json": {
       "model_id": "2f0cc802c372449c8b15eb3928520518",
       "version_major": 2,
       "version_minor": 0
      },
      "text/plain": [
       "config.json:   0%|          | 0.00/1.43k [00:00<?, ?B/s]"
      ]
     },
     "metadata": {},
     "output_type": "display_data"
    },
    {
     "data": {
      "application/vnd.jupyter.widget-view+json": {
       "model_id": "b3f1cbf08fb345769ffebd84f89e7596",
       "version_major": 2,
       "version_minor": 0
      },
      "text/plain": [
       "configuration.py:   0%|          | 0.00/7.13k [00:00<?, ?B/s]"
      ]
     },
     "metadata": {},
     "output_type": "display_data"
    },
    {
     "name": "stderr",
     "output_type": "stream",
     "text": [
      "A new version of the following files was downloaded from https://huggingface.co/Alibaba-NLP/new-impl:\n",
      "- configuration.py\n",
      ". Make sure to double-check they do not contain any added malicious code. To avoid downloading new versions of the code file, you can pin a revision.\n"
     ]
    },
    {
     "data": {
      "application/vnd.jupyter.widget-view+json": {
       "model_id": "5a3716bcca1f4913b465a6e7994df0cc",
       "version_major": 2,
       "version_minor": 0
      },
      "text/plain": [
       "modeling.py:   0%|          | 0.00/59.0k [00:00<?, ?B/s]"
      ]
     },
     "metadata": {},
     "output_type": "display_data"
    },
    {
     "name": "stderr",
     "output_type": "stream",
     "text": [
      "A new version of the following files was downloaded from https://huggingface.co/Alibaba-NLP/new-impl:\n",
      "- modeling.py\n",
      ". Make sure to double-check they do not contain any added malicious code. To avoid downloading new versions of the code file, you can pin a revision.\n"
     ]
    },
    {
     "data": {
      "application/vnd.jupyter.widget-view+json": {
       "model_id": "7d3f5ec795f74b26826437e97e996b4a",
       "version_major": 2,
       "version_minor": 0
      },
      "text/plain": [
       "model.safetensors:   0%|          | 0.00/611M [00:00<?, ?B/s]"
      ]
     },
     "metadata": {},
     "output_type": "display_data"
    },
    {
     "name": "stderr",
     "output_type": "stream",
     "text": [
      "Some weights of the model checkpoint at Alibaba-NLP/gte-multilingual-base were not used when initializing NewModel: ['classifier.bias', 'classifier.weight']\n",
      "- This IS expected if you are initializing NewModel from the checkpoint of a model trained on another task or with another architecture (e.g. initializing a BertForSequenceClassification model from a BertForPreTraining model).\n",
      "- This IS NOT expected if you are initializing NewModel from the checkpoint of a model that you expect to be exactly identical (initializing a BertForSequenceClassification model from a BertForSequenceClassification model).\n"
     ]
    },
    {
     "data": {
      "application/vnd.jupyter.widget-view+json": {
       "model_id": "1762857e0e1f4f49a1a6fd26257d910d",
       "version_major": 2,
       "version_minor": 0
      },
      "text/plain": [
       "tokenizer_config.json:   0%|          | 0.00/1.15k [00:00<?, ?B/s]"
      ]
     },
     "metadata": {},
     "output_type": "display_data"
    },
    {
     "data": {
      "application/vnd.jupyter.widget-view+json": {
       "model_id": "086bb69cd3354ba59831b04de24b67d4",
       "version_major": 2,
       "version_minor": 0
      },
      "text/plain": [
       "tokenizer.json:   0%|          | 0.00/17.1M [00:00<?, ?B/s]"
      ]
     },
     "metadata": {},
     "output_type": "display_data"
    },
    {
     "data": {
      "application/vnd.jupyter.widget-view+json": {
       "model_id": "12994748972f4c3989d1118f8d845512",
       "version_major": 2,
       "version_minor": 0
      },
      "text/plain": [
       "special_tokens_map.json:   0%|          | 0.00/964 [00:00<?, ?B/s]"
      ]
     },
     "metadata": {},
     "output_type": "display_data"
    },
    {
     "data": {
      "application/vnd.jupyter.widget-view+json": {
       "model_id": "d040b1f70aea4719888acc4cd551ac5e",
       "version_major": 2,
       "version_minor": 0
      },
      "text/plain": [
       "config.json:   0%|          | 0.00/190 [00:00<?, ?B/s]"
      ]
     },
     "metadata": {},
     "output_type": "display_data"
    }
   ],
   "source": [
    "from sentence_transformers import SentenceTransformer\n",
    "\n",
    "# Device setup: CUDA if available, otherwise CPU\n",
    "device = torch.device('cuda' if torch.cuda.is_available() else 'cpu')\n",
    "\n",
    "# Load the model\n",
    "model_name_or_path = \"Alibaba-NLP/gte-multilingual-base\"\n",
    "model = SentenceTransformer(model_name_or_path, trust_remote_code=True)"
   ]
  },
  {
   "cell_type": "code",
   "execution_count": 10,
   "metadata": {
    "execution": {
     "iopub.execute_input": "2025-06-17T22:18:05.991083Z",
     "iopub.status.busy": "2025-06-17T22:18:05.990497Z",
     "iopub.status.idle": "2025-06-17T22:18:06.000619Z",
     "shell.execute_reply": "2025-06-17T22:18:05.999835Z",
     "shell.execute_reply.started": "2025-06-17T22:18:05.991063Z"
    },
    "trusted": true
   },
   "outputs": [
    {
     "data": {
      "text/html": [
       "<div>\n",
       "<style scoped>\n",
       "    .dataframe tbody tr th:only-of-type {\n",
       "        vertical-align: middle;\n",
       "    }\n",
       "\n",
       "    .dataframe tbody tr th {\n",
       "        vertical-align: top;\n",
       "    }\n",
       "\n",
       "    .dataframe thead th {\n",
       "        text-align: right;\n",
       "    }\n",
       "</style>\n",
       "<table border=\"1\" class=\"dataframe\">\n",
       "  <thead>\n",
       "    <tr style=\"text-align: right;\">\n",
       "      <th></th>\n",
       "      <th>file_name</th>\n",
       "      <th>summary</th>\n",
       "      <th>full_article</th>\n",
       "    </tr>\n",
       "  </thead>\n",
       "  <tbody>\n",
       "    <tr>\n",
       "      <th>0</th>\n",
       "      <td>article_1.txt</td>\n",
       "      <td>ស្ត្រី ជាបុគ្គលដ៏សំខាន់ក្នុងរួមចំណែកដំណើរការដឹ...</td>\n",
       "      <td>កាលពីអតីតកាល កិច្ចការងារ និងមុខតំណែងក្នុងអង្គភ...</td>\n",
       "    </tr>\n",
       "    <tr>\n",
       "      <th>1</th>\n",
       "      <td>article_100.txt</td>\n",
       "      <td>អ្នកនាំពាក្យក្រសួងការបរទេសអាម៉េរិក លោក Matthew...</td>\n",
       "      <td>ដំណើរទស្សនកិច្ចទៅកាន់ទីក្រុងសេអ៊ូល ជាផ្នែកមួយន...</td>\n",
       "    </tr>\n",
       "    <tr>\n",
       "      <th>2</th>\n",
       "      <td>article_1000.txt</td>\n",
       "      <td>ព្រឹទ្ធសភាអាមេរិក នៅថ្ងៃទី៩ ខែកុម្ភៈ បានយល់ព្រ...</td>\n",
       "      <td>សវនាការដកតំណែងលើកទីពីរប្រឆាំងអតីតប្រធានាធិបតី ...</td>\n",
       "    </tr>\n",
       "    <tr>\n",
       "      <th>3</th>\n",
       "      <td>article_10000.txt</td>\n",
       "      <td>សកម្មភាព​លក់​លំនៅ​ឋាន ដែលមាន​ផ្ទះល្វែង វីឡាភ្ល...</td>\n",
       "      <td>របាយការណ៍ដែល​យោង​តាម​និយ័តករ​អាជីវករអចលនវត្ថុ ...</td>\n",
       "    </tr>\n",
       "    <tr>\n",
       "      <th>4</th>\n",
       "      <td>article_10001.txt</td>\n",
       "      <td>ភ្នំពេញ៖ លោក វ៉ាង យី រដ្ឋមន្រ្តីការបរទេសចិន បា...</td>\n",
       "      <td>ក្នុងជំនួបនេះលោក សុខ ចិន្តាសោភា បានរំលេចពីទំនា...</td>\n",
       "    </tr>\n",
       "    <tr>\n",
       "      <th>...</th>\n",
       "      <td>...</td>\n",
       "      <td>...</td>\n",
       "      <td>...</td>\n",
       "    </tr>\n",
       "    <tr>\n",
       "      <th>10020</th>\n",
       "      <td>article_9995.txt</td>\n",
       "      <td>របាយ​ការណ៍ថ្មីមួយ​ដែល​សិក្សា​ដោយ​អង្គការ​លីកាដ...</td>\n",
       "      <td>យោងតាមរបាយការណ៍នេះ ​អ្នក​ខ្ចី​ប្រាក់​ជាង​២/៣ ​...</td>\n",
       "    </tr>\n",
       "    <tr>\n",
       "      <th>10021</th>\n",
       "      <td>article_9996.txt</td>\n",
       "      <td>៧ខែមកនេះ​ កម្ពុជាទទួលបានភ្ញៀវទេសចរបរទេសសរុប ៣ ...</td>\n",
       "      <td>ក្រសួងទេសចរណ៍បានបញ្ជាក់ថា បន្ទាប់ពីថៃទេសចរដែលម...</td>\n",
       "    </tr>\n",
       "    <tr>\n",
       "      <th>10022</th>\n",
       "      <td>article_9997.txt</td>\n",
       "      <td>រយៈពេល៧ខែមកនេះ ការនាំចេញរបស់កម្ពុជាទៅកាន់ទីផ្ស...</td>\n",
       "      <td>Regional Comprehensive Economic Partnership (R...</td>\n",
       "    </tr>\n",
       "    <tr>\n",
       "      <th>10023</th>\n",
       "      <td>article_9998.txt</td>\n",
       "      <td>ធនាគារជាតិនៃកម្ពុជា (NBC) ប្រកាសដាក់ដេញថ្លៃប្រ...</td>\n",
       "      <td>បើតាមសេចក្តីជូនដំណឹងរបស់ធនាគារជាតិ ការដេញថ្លៃន...</td>\n",
       "    </tr>\n",
       "    <tr>\n",
       "      <th>10024</th>\n",
       "      <td>article_9999.txt</td>\n",
       "      <td>៧ខែមកនេះ ​ការធ្វើពាណិជ្ជកម្មរវាងកម្ពុជាជាមួយទី...</td>\n",
       "      <td>យោងតាមទិន្នន័យពីអគ្គនាយកដ្ឋានគយ និងរដ្ឋាករកម្ព...</td>\n",
       "    </tr>\n",
       "  </tbody>\n",
       "</table>\n",
       "<p>10025 rows × 3 columns</p>\n",
       "</div>"
      ],
      "text/plain": [
       "               file_name                                            summary  \\\n",
       "0          article_1.txt  ស្ត្រី ជាបុគ្គលដ៏សំខាន់ក្នុងរួមចំណែកដំណើរការដឹ...   \n",
       "1        article_100.txt  អ្នកនាំពាក្យក្រសួងការបរទេសអាម៉េរិក លោក Matthew...   \n",
       "2       article_1000.txt  ព្រឹទ្ធសភាអាមេរិក នៅថ្ងៃទី៩ ខែកុម្ភៈ បានយល់ព្រ...   \n",
       "3      article_10000.txt  សកម្មភាព​លក់​លំនៅ​ឋាន ដែលមាន​ផ្ទះល្វែង វីឡាភ្ល...   \n",
       "4      article_10001.txt  ភ្នំពេញ៖ លោក វ៉ាង យី រដ្ឋមន្រ្តីការបរទេសចិន បា...   \n",
       "...                  ...                                                ...   \n",
       "10020   article_9995.txt  របាយ​ការណ៍ថ្មីមួយ​ដែល​សិក្សា​ដោយ​អង្គការ​លីកាដ...   \n",
       "10021   article_9996.txt  ៧ខែមកនេះ​ កម្ពុជាទទួលបានភ្ញៀវទេសចរបរទេសសរុប ៣ ...   \n",
       "10022   article_9997.txt  រយៈពេល៧ខែមកនេះ ការនាំចេញរបស់កម្ពុជាទៅកាន់ទីផ្ស...   \n",
       "10023   article_9998.txt  ធនាគារជាតិនៃកម្ពុជា (NBC) ប្រកាសដាក់ដេញថ្លៃប្រ...   \n",
       "10024   article_9999.txt  ៧ខែមកនេះ ​ការធ្វើពាណិជ្ជកម្មរវាងកម្ពុជាជាមួយទី...   \n",
       "\n",
       "                                            full_article  \n",
       "0      កាលពីអតីតកាល កិច្ចការងារ និងមុខតំណែងក្នុងអង្គភ...  \n",
       "1      ដំណើរទស្សនកិច្ចទៅកាន់ទីក្រុងសេអ៊ូល ជាផ្នែកមួយន...  \n",
       "2      សវនាការដកតំណែងលើកទីពីរប្រឆាំងអតីតប្រធានាធិបតី ...  \n",
       "3      របាយការណ៍ដែល​យោង​តាម​និយ័តករ​អាជីវករអចលនវត្ថុ ...  \n",
       "4      ក្នុងជំនួបនេះលោក សុខ ចិន្តាសោភា បានរំលេចពីទំនា...  \n",
       "...                                                  ...  \n",
       "10020  យោងតាមរបាយការណ៍នេះ ​អ្នក​ខ្ចី​ប្រាក់​ជាង​២/៣ ​...  \n",
       "10021  ក្រសួងទេសចរណ៍បានបញ្ជាក់ថា បន្ទាប់ពីថៃទេសចរដែលម...  \n",
       "10022  Regional Comprehensive Economic Partnership (R...  \n",
       "10023  បើតាមសេចក្តីជូនដំណឹងរបស់ធនាគារជាតិ ការដេញថ្លៃន...  \n",
       "10024  យោងតាមទិន្នន័យពីអគ្គនាយកដ្ឋានគយ និងរដ្ឋាករកម្ព...  \n",
       "\n",
       "[10025 rows x 3 columns]"
      ]
     },
     "execution_count": 10,
     "metadata": {},
     "output_type": "execute_result"
    }
   ],
   "source": [
    "df"
   ]
  },
  {
   "cell_type": "markdown",
   "metadata": {},
   "source": [
    "#### Embedding the documents into vector representation"
   ]
  },
  {
   "cell_type": "code",
   "execution_count": null,
   "metadata": {
    "execution": {
     "iopub.execute_input": "2025-06-17T22:18:06.554897Z",
     "iopub.status.busy": "2025-06-17T22:18:06.554635Z",
     "iopub.status.idle": "2025-06-17T22:18:06.559333Z",
     "shell.execute_reply": "2025-06-17T22:18:06.558557Z",
     "shell.execute_reply.started": "2025-06-17T22:18:06.554878Z"
    },
    "trusted": true
   },
   "outputs": [],
   "source": [
    "documents = df['full_article'].tolist()"
   ]
  },
  {
   "cell_type": "code",
   "execution_count": null,
   "metadata": {
    "_kg_hide-input": true,
    "execution": {
     "iopub.execute_input": "2025-06-17T22:18:10.811056Z",
     "iopub.status.busy": "2025-06-17T22:18:10.810622Z",
     "iopub.status.idle": "2025-06-17T22:39:08.396031Z",
     "shell.execute_reply": "2025-06-17T22:39:08.395436Z",
     "shell.execute_reply.started": "2025-06-17T22:18:10.811027Z"
    },
    "trusted": true
   },
   "outputs": [
    {
     "name": "stderr",
     "output_type": "stream",
     "text": [
      "100%|██████████| 627/627 [20:57<00:00,  2.01s/it]\n"
     ]
    }
   ],
   "source": [
    "from tqdm import tqdm\n",
    "import torch\n",
    "\n",
    "batch_size = 16\n",
    "doc_embeds = []\n",
    "\n",
    "for i in tqdm(range(0, len(documents), batch_size)):\n",
    "    batch = documents[i:i + batch_size]\n",
    "    try:\n",
    "        embeddings = model.encode(batch, show_progress_bar=False)\n",
    "        doc_embeds.extend(embeddings)\n",
    "    except Exception as e:\n",
    "        print(f\"Error on batch {i}-{i+batch_size}: {e}\")\n",
    "    torch.cuda.empty_cache()\n"
   ]
  },
  {
   "cell_type": "markdown",
   "metadata": {},
   "source": [
    "Evaluate the model performance"
   ]
  },
  {
   "cell_type": "code",
   "execution_count": 10,
   "metadata": {
    "execution": {
     "iopub.execute_input": "2025-06-13T09:08:45.284623Z",
     "iopub.status.busy": "2025-06-13T09:08:45.284368Z",
     "iopub.status.idle": "2025-06-13T09:10:57.220844Z",
     "shell.execute_reply": "2025-06-13T09:10:57.219979Z",
     "shell.execute_reply.started": "2025-06-13T09:08:45.284595Z"
    },
    "trusted": true
   },
   "outputs": [
    {
     "name": "stdout",
     "output_type": "stream",
     "text": [
      "Accuracy of Retrieve@10: 94.96%\n",
      "Not in top 10: 101\n"
     ]
    }
   ],
   "source": [
    "correct_in_top10 = 0\n",
    "not_correct_in_top = 0\n",
    "\n",
    "for idx, row in test.iterrows():\n",
    "    test_query = model.encode([row['summary']], show_progress_bar=False)\n",
    "    test_query = test_query.reshape(1, -1)  # Reshape query to match cosine similarity format\n",
    "\n",
    "    # Calculate similarities with all document embeddings\n",
    "    similarities = cosine_similarity(test_query, doc_embeds)\n",
    "    \n",
    "    # Get the top 10 most similar articles\n",
    "    top_10_indices = similarities[0].argsort()[-10:][::-1]\n",
    "    top_10_names = [df.iloc[i]['file_name'] for i in top_10_indices]\n",
    "    \n",
    "\n",
    "    if row['file_name'] in top_10_names:  \n",
    "        correct_in_top10 += 1\n",
    "    else:\n",
    "        not_correct_in_top += 1\n",
    "\n",
    "# Calculate the accuracy of Retrieve@10\n",
    "accuracy = correct_in_top10 / len(test)\n",
    "print(f'Accuracy of Retrieve@10: {accuracy * 100:.2f}%')\n",
    "print(f'Not in top 10: {not_correct_in_top}')\n"
   ]
  },
  {
   "cell_type": "code",
   "execution_count": 5,
   "metadata": {
    "execution": {
     "iopub.execute_input": "2025-06-16T18:34:52.151024Z",
     "iopub.status.busy": "2025-06-16T18:34:52.150479Z",
     "iopub.status.idle": "2025-06-16T18:34:52.157558Z",
     "shell.execute_reply": "2025-06-16T18:34:52.156851Z",
     "shell.execute_reply.started": "2025-06-16T18:34:52.150993Z"
    },
    "trusted": true
   },
   "outputs": [
    {
     "name": "stdout",
     "output_type": "stream",
     "text": [
      "ប្រធានាធិបតីទី៤៥ និងទី៤៧អាម៉េរិក លោក ដូណាល់ ត្រាំ បានថ្លែងក្នុងសន្ទរកថា​ចូល​កាន់​តំណែងនៅថ្ងៃទី២០ ខែមករា ថាយុគមាសរបស់អាម៉េរិក គឺចាប់ផ្ដើមហើយ​នៅ​ពេល​នេះ។ លោក ត្រាំ បានបញ្ជាក់ថាការធ្លាក់ចុះរបស់អាម៉េរិក គឺមិនអាចកើតឡើងទៀតទេ។\n"
     ]
    }
   ],
   "source": [
    "print(test.iloc[2]['summary'])"
   ]
  },
  {
   "cell_type": "code",
   "execution_count": 31,
   "metadata": {
    "execution": {
     "iopub.execute_input": "2025-06-11T07:50:52.058405Z",
     "iopub.status.busy": "2025-06-11T07:50:52.057687Z",
     "iopub.status.idle": "2025-06-11T07:51:03.590590Z",
     "shell.execute_reply": "2025-06-11T07:51:03.589756Z",
     "shell.execute_reply.started": "2025-06-11T07:50:52.058380Z"
    },
    "trusted": true
   },
   "outputs": [
    {
     "name": "stdout",
     "output_type": "stream",
     "text": [
      "Enter your search query:  ចូបៃដិន និង ដូណាល់ត្រាំ\n"
     ]
    },
    {
     "name": "stdout",
     "output_type": "stream",
     "text": [
      "\n",
      "Top 10 matching articles:\n",
      "\n",
      "1. File: article_328.txt\n",
      "   Summary: ប្រធានាធិបតី ចូ បៃឌិន និងអតីតប្រធានាធិបតី ដូណាល់ ត្រាំ នឹងប្រកួតប្រជែងតំណែងប្រធានាធិបតីអាម៉េរិកជាថ្មីក្រោយលោកដូណាល់ ត្រាំ ទទួលបានសំឡេងក្នុងការបោះឆ្នោតបឋម ១២៤៧។ បេក្ខជនបក្សសាធារណរដ្ឋសល់តែលោកត្រាំម្នាក់ប៉ុណ្ណោះ ខណៈបេក្ខជនផ្សេងទៀត បានដើរចេញ។\n",
      "\n",
      "2. File: article_302.txt\n",
      "   Summary: ជាលើកដំបូង បេក្ខជនប្រធានាធិបតីអាម៉េរិកទាំង២ បានជជែកដេញដោលទល់មុខគ្នា មុនការបោះឆ្នោតនាដើមខែវិច្ឆិកាឆ្នាំនេះ។ ប្រធានបទជជែកផ្តោតលើសំខាន់ៗលើសន្តិសុខព្រំដែន អន្តោប្រវេសន៍ គោលនយោបាយសេដ្ឋកិច្ច ការបរទេស ព្រមទាំងបញ្ហាអាយុ និងសុខភាព។\n",
      "\n",
      "3. File: article_2239.txt\n",
      "   Summary: ​អតីត​ប្រធានសភា​អាមេរិក លោក John Boehner ប្រកាសថា​លោក​នឹងចូលរួម​ក្នុង​សមាជ​បក្ស​សាធារណរដ្ឋ ខែកក្កដា​ដែល​នឹងត្រូវ​រៀបចំ​ឡើយ​នៅ Cleveland​។ លោក​ទំនងជា​នឹង​បោះឆ្នោត​គាំទ្រ​លោក ដូ​ណា​ល់ ត្រាំ ទោះជា​អ្នក​សាធារណរដ្ឋ​ខ្លះ​មិន​គាំទ្រ​ក៏ដោយ​។ តែ​ប្រធានសភា​បច្ចុប្បន្ន​លោក Paul Ryan ថា​លោក មិនទាន់​ត្រៀមលក្ខណៈ​ប្រកាស​គាំទ្រ​លោក​ឡើយ​។​\n",
      "\n",
      "4. File: article_224.txt\n",
      "   Summary: លោកប្រធានាធិបតី ចូ បៃឌិន និងលោក ដូណាល់ ត្រាំ បានជួបគ្នានៅសេតវិមានជាលើកដំបូងចាប់តាំងពីការបោះឆ្នោត ហើយបានពិភាក្សាអំពីការផ្ទេរអំណាចនាពេលខាងមុខ។\n",
      "\n",
      "5. File: article_5601.txt\n",
      "   Summary: ​​លោក Tiger Woods វីរបុរសកីឡាវាយកូនគោល និងអ្នកស្រី Vanessa Trump អតីតភរិយា លោក ដូណាល់ ត្រាំ ជេអរ កូនប្រុសលោកប្រធានាធិបតីអាម៉េរិក ដូណាល់ ត្រាំ បានណាត់ជួបគ្នាដោយលួចលាក់ នៅរយៈពេលប៉ុន្មានខែចុងក្រោយមកនេះ។ បើតាមការចុះផ្សាយ កូនប្រុសលោកប្រធានាធិបតីអាម៉េរិកទី ៤៧ គ្មានប្រតិកម្មអ្វីចំពោះរឿងនេះឡើយ។\n",
      "\n",
      "6. File: article_1148.txt\n",
      "   Summary: ​ប្អូនប្រុស​របស់​ប្រធានាធិបតី​អាមេរិក ដូ​ណា​ល់ ត្រាំ លោក រ៉ូ​ប៊ឺ​ត (Robert) ទទួលមរណភាព​ដោយ​រោគាពាធ​នៅ​ថ្ងៃទី ១៥ ខែសីហា ។ លោក​ប្រធានាធិបតី បញ្ជាក់​បែបនេះ​ក្នុង​សារ​ចូលរួម​រំលែក​ទុក្ខ​សម្រាប់​ការបាត់បង់​នេះ​។ យ៉ាងណា ជំងឺ​លោក ពុំ​ត្រូវគេ​បញ្ជាក់​ឡើយ​។\n",
      "\n",
      "7. File: article_2111.txt\n",
      "   Summary: ​មហាសេដ្ឋី និង​ជា​អតីត​អភិបាលក្រុង​ញូវយ៉ក​លោក Michael Bloomberg ទិតៀន ដូ​ណា​ល់​ត្រាំ ជុំវិញ​ការ​លើកឡើងថា​លោក​នឹង​ដឹកនាំ​សហរដ្ឋអាមេរិក​ដូចជា​លោក​គ្រប់គ្រង​ជំនួញ​ផ្ទាល់ខ្លួន​របស់លោក​នោះ​។ មហាសេដ្ឋី​ដែលមាន​ទ្រព្យ​ច្រើនជាង​លោក ដូ​ណា​ល់ ត្រាំ ដាច់​នោះ បាន​ហៅ​លោក ដូ​ណា​ល់​ត្រាំ ពេញៗ​មាត់​ថា​ជា​អ្នកនយោបាយ​ប្រជា​ភិ​ថុ​ត​, ពុតត្បុត និង​គ្រោះថ្នាក់​។\n",
      "\n",
      "8. File: article_1475.txt\n",
      "   Summary: ជំនួប​ប្រវត្តិសាស្ត្រ​រវាង​មេដឹកនាំ​អាមេរិក និង​កូរ៉េខាងជើង​ដែល​គ្រប់គ្នា​ទន្ទឹងរង់ចាំ បានចាប់ផ្ដើម​ហើយ​នៅ​ព្រឹក​ថ្ងៃទី​១២ ខែមិថុនា ឯ​សណ្ឋាគារ Capella លើ​កោះ​សេន​តូ​សា​។ ប្រធានាធិបតី​អាមេរិក ដូ​ណា​ល់ ត្រាំ និង​មេដឹកនាំ​កូរ៉េខាងជើង គីម ជុង​អ៊ុន បាន​ចាប់​រលា​ក់ដៃ​គ្នា មុននឹង​ដើរទៅ​ជួបគ្នា​៤៥​នាទី​សិន មុន​ចាប់ផ្តើម​ប្រជុំ​ធំ​រយៈពេល​ ៩០ នាទី​ទៀត​។ នេះ​ជា​ជំនួប​លើកទីមួយ​រវាង​មេដឹកនាំ​ប្រទេស​គូសត្រូវ​ទាំងពីរ ដោយមាន​ការរំសាយ​នុយក្លេអ៊ែរ​ពី​ឧបទ្វីប​កូរ៉េ​ជា​របៀបវារៈ​សំខាន់​។​\n",
      "\n",
      "9. File: article_2741.txt\n",
      "   Summary: វិមាន​ក្រេ​ម​ឡាំង​បាន​បញ្ចេញ​រូបភាព​ប្រធានាធិបតី​រុស្ស៊ី​លោក វ្ល៉ា​ឌី​មៀ ពូ​ទីន ជាមួយ​នាយករដ្ឋមន្ត្រី​រុស្ស៊ី​លោក ឌី​មី​ទ្រី មេ​ដ​វ៉េ​ដេ​វ នាំគ្នា​ហាត់ប្រាណ​នៅ​ក្លិប​ហាត់ប្រាណ​មួយ​ក្នុង​និវេសនដ្ឋាន​របស់លោក ពូ​ទីន នៅ​ទីក្រុង Sochi កាលពី​ម្សិលមិញ។ រុស្ស៊ី​បញ្ចេញ​រូបភាព​ច្រើន​សន្លឹក​របស់​ប្រមុខរដ្ឋ​និង​ប្រមុខ​រដ្ឋាភិបាល​រុស្ស៊ី ដែល​នាំគ្នា​ហាត់ប្រាណ​កម្តៅ​សាច់ដុំ​ចុះឡើង​នេះ ទំនងជា​ចង់បង្ហាញ​ទៅកាន់​ពិភពលោក​ថា មេដឹកនាំ​ទាំង​មាំមួន សុខភាព​ល្អ និង​ខ្លាំងក្លា មិន​ត្រឹម​តែមាន​សមត្ថភាព​ក្នុងការ​ដឹកនាំ​និង​ធ្វើ​នយោបាយ​ឡើយ។\n",
      "\n",
      "10. File: article_1910.txt\n",
      "   Summary: ប្រធានាធិបតី​ទើប​ជាប់ឆ្នោត​លោក ដូ​ណា​ល់ ត្រាំ ទស្សនា​វ​ដ្តី Time ជ្រើសរើស​ជន​ល្បី​ប្រចាំឆ្នាំ​របស់ខ្លួន​នៅ​ថ្ងៃ​ពុធ​ទី​៧ ធ្នូ​នេះ​។ ភ្ជាប់​ជាមួយ​រូបភាព  ទស្សនា​វ​ដ្តី Time ដាក់ថា លោក ដូ​ណា​ល់ ត្រាំ ជា​ប្រធានាធិបតី​នៃ រដ្ឋ​បែកខ្ញែក​គ្នា​អាមេរិក (Divided States of America)​។\n",
      "\n"
     ]
    }
   ],
   "source": [
    "query = input(\"Enter your search query: \")\n",
    "\n",
    "top_articles = retrieve_top10_articles(query, model, df, doc_embeds)\n",
    "\n",
    "print(\"\\nTop 10 matching articles:\\n\")\n",
    "for i, article in enumerate(top_articles, 1):\n",
    "    print(f\"{i}. File: {article['file_name']}\")\n",
    "    print(f\"   Summary: {article['summary']}\\n\")"
   ]
  },
  {
   "cell_type": "code",
   "execution_count": null,
   "metadata": {
    "trusted": true
   },
   "outputs": [],
   "source": []
  }
 ],
 "metadata": {
  "kaggle": {
   "accelerator": "nvidiaTeslaT4",
   "dataSources": [
    {
     "datasetId": 7415534,
     "sourceId": 11807575,
     "sourceType": "datasetVersion"
    },
    {
     "datasetId": 7419618,
     "sourceId": 11813110,
     "sourceType": "datasetVersion"
    },
    {
     "datasetId": 7428948,
     "sourceId": 11825971,
     "sourceType": "datasetVersion"
    }
   ],
   "dockerImageVersionId": 31040,
   "isGpuEnabled": true,
   "isInternetEnabled": true,
   "language": "python",
   "sourceType": "notebook"
  },
  "kernelspec": {
   "display_name": "Python 3",
   "language": "python",
   "name": "python3"
  },
  "language_info": {
   "codemirror_mode": {
    "name": "ipython",
    "version": 3
   },
   "file_extension": ".py",
   "mimetype": "text/x-python",
   "name": "python",
   "nbconvert_exporter": "python",
   "pygments_lexer": "ipython3",
   "version": "3.11.11"
  }
 },
 "nbformat": 4,
 "nbformat_minor": 4
}
